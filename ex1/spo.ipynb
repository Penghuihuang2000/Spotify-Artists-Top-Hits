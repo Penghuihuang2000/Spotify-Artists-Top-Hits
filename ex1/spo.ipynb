{
 "cells": [
  {
   "cell_type": "code",
   "execution_count": 2,
   "metadata": {},
   "outputs": [],
   "source": [
    "# create a class for getting those top hits and showing them\n",
    "import spotipy\n",
    "from spotipy.oauth2 import SpotifyClientCredentials\n",
    "class sporeads:\n",
    "    def getreads(self,artist): \n",
    "        self.artist = artist\n",
    "        sp = spotipy.Spotify(auth_manager=SpotifyClientCredentials(client_id=\"0822a31cd9d04068ba59343d6b3e1a80\",\n",
    "                                                           client_secret=\"df0c7bbb087844179ff7264f1d715e5d\"))\n",
    "        self.results = sp.search(q=artist, limit=10)\n",
    "        \n",
    "    def showreads(self):\n",
    "        re = self.results\n",
    "        for idx, track in enumerate(re['tracks']['items']):\n",
    "            print(track['name'],'\\n','\\t',track['album']['name'],'\\n','\\t',track['album']['release_date'],'\\t',track['popularity'],'\\t',track['album']['images'][1]['url'])\n",
    "\n",
    "\n"
   ]
  },
  {
   "cell_type": "code",
   "execution_count": 1,
   "metadata": {},
   "outputs": [
    {
     "ename": "NameError",
     "evalue": "name 're' is not defined",
     "output_type": "error",
     "traceback": [
      "\u001b[1;31m---------------------------------------------------------------------------\u001b[0m",
      "\u001b[1;31mNameError\u001b[0m                                 Traceback (most recent call last)",
      "\u001b[1;32m<ipython-input-1-ca8fa3513922>\u001b[0m in \u001b[0;36m<module>\u001b[1;34m\u001b[0m\n\u001b[1;32m----> 1\u001b[1;33m \u001b[0mre\u001b[0m\u001b[1;33m[\u001b[0m\u001b[1;34m'tracks'\u001b[0m\u001b[1;33m]\u001b[0m\u001b[1;33m\u001b[0m\u001b[1;33m\u001b[0m\u001b[0m\n\u001b[0m",
      "\u001b[1;31mNameError\u001b[0m: name 're' is not defined"
     ]
    }
   ],
   "source": [
    "re['tracks']"
   ]
  }
 ],
 "metadata": {
  "kernelspec": {
   "display_name": "Python 3",
   "language": "python",
   "name": "python3"
  },
  "language_info": {
   "codemirror_mode": {
    "name": "ipython",
    "version": 3
   },
   "file_extension": ".py",
   "mimetype": "text/x-python",
   "name": "python",
   "nbconvert_exporter": "python",
   "pygments_lexer": "ipython3",
   "version": "3.8.3"
  }
 },
 "nbformat": 4,
 "nbformat_minor": 4
}
