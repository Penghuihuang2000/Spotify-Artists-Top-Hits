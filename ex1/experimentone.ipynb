{
 "cells": [
  {
   "cell_type": "code",
   "execution_count": 8,
   "metadata": {},
   "outputs": [
    {
     "name": "stdout",
     "output_type": "stream",
     "text": [
      "Requirement already satisfied: spotipy in c:\\users\\86199\\anaconda3\\lib\\site-packages (2.17.1)\n",
      "Requirement already satisfied: requests>=2.25.0 in c:\\users\\86199\\anaconda3\\lib\\site-packages (from spotipy) (2.25.1)\n",
      "Requirement already satisfied: urllib3>=1.26.0 in c:\\users\\86199\\anaconda3\\lib\\site-packages (from spotipy) (1.26.4)\n",
      "Requirement already satisfied: six>=1.15.0 in c:\\users\\86199\\anaconda3\\lib\\site-packages (from spotipy) (1.15.0)\n",
      "Requirement already satisfied: chardet<5,>=3.0.2 in c:\\users\\86199\\anaconda3\\lib\\site-packages (from requests>=2.25.0->spotipy) (3.0.4)\n",
      "Requirement already satisfied: idna<3,>=2.5 in c:\\users\\86199\\anaconda3\\lib\\site-packages (from requests>=2.25.0->spotipy) (2.10)\n",
      "Requirement already satisfied: certifi>=2017.4.17 in c:\\users\\86199\\anaconda3\\lib\\site-packages (from requests>=2.25.0->spotipy) (2020.6.20)\n",
      "Note: you may need to restart the kernel to use updated packages.\n"
     ]
    }
   ],
   "source": [
    "pip install spotipy"
   ]
  },
  {
   "cell_type": "code",
   "execution_count": 10,
   "metadata": {},
   "outputs": [
    {
     "name": "stdout",
     "output_type": "stream",
     "text": [
      "Collecting urllib3==1.26.2\n",
      "  Downloading urllib3-1.26.2-py2.py3-none-any.whl (136 kB)\n",
      "Installing collected packages: urllib3\n",
      "  Attempting uninstall: urllib3\n",
      "    Found existing installation: urllib3 1.25.11\n",
      "    Uninstalling urllib3-1.25.11:\n",
      "      Successfully uninstalled urllib3-1.25.11\n",
      "Successfully installed urllib3-1.26.2\n",
      "Note: you may need to restart the kernel to use updated packages.\n"
     ]
    }
   ],
   "source": [
    "pip install urllib3==1.26.2"
   ]
  },
  {
   "cell_type": "code",
   "execution_count": 5,
   "metadata": {},
   "outputs": [
    {
     "name": "stdout",
     "output_type": "stream",
     "text": [
      "Requirement already satisfied: scikit-image==0.16.2 in c:\\users\\86199\\anaconda3\\lib\\site-packages (0.16.2)\n",
      "Requirement already satisfied: networkx>=2.0 in c:\\users\\86199\\anaconda3\\lib\\site-packages (from scikit-image==0.16.2) (2.4)\n",
      "Requirement already satisfied: matplotlib!=3.0.0,>=2.0.0 in c:\\users\\86199\\anaconda3\\lib\\site-packages (from scikit-image==0.16.2) (3.2.2)\n",
      "Requirement already satisfied: PyWavelets>=0.4.0 in c:\\users\\86199\\anaconda3\\lib\\site-packages (from scikit-image==0.16.2) (1.1.1)\n",
      "Requirement already satisfied: scipy>=0.19.0 in c:\\users\\86199\\anaconda3\\lib\\site-packages (from scikit-image==0.16.2) (1.5.0)\n",
      "Requirement already satisfied: imageio>=2.3.0 in c:\\users\\86199\\anaconda3\\lib\\site-packages (from scikit-image==0.16.2) (2.9.0)\n",
      "Requirement already satisfied: pillow>=4.3.0 in c:\\users\\86199\\anaconda3\\lib\\site-packages (from scikit-image==0.16.2) (7.2.0)\n",
      "Requirement already satisfied: decorator>=4.3.0 in c:\\users\\86199\\anaconda3\\lib\\site-packages (from networkx>=2.0->scikit-image==0.16.2) (4.4.2)\n",
      "Requirement already satisfied: python-dateutil>=2.1 in c:\\users\\86199\\anaconda3\\lib\\site-packages (from matplotlib!=3.0.0,>=2.0.0->scikit-image==0.16.2) (2.8.1)\n",
      "Requirement already satisfied: cycler>=0.10 in c:\\users\\86199\\anaconda3\\lib\\site-packages (from matplotlib!=3.0.0,>=2.0.0->scikit-image==0.16.2) (0.10.0)\n",
      "Requirement already satisfied: numpy>=1.11 in c:\\users\\86199\\anaconda3\\lib\\site-packages (from matplotlib!=3.0.0,>=2.0.0->scikit-image==0.16.2) (1.18.5)\n",
      "Requirement already satisfied: pyparsing!=2.0.4,!=2.1.2,!=2.1.6,>=2.0.1 in c:\\users\\86199\\anaconda3\\lib\\site-packages (from matplotlib!=3.0.0,>=2.0.0->scikit-image==0.16.2) (2.4.7)\n",
      "Requirement already satisfied: kiwisolver>=1.0.1 in c:\\users\\86199\\anaconda3\\lib\\site-packages (from matplotlib!=3.0.0,>=2.0.0->scikit-image==0.16.2) (1.2.0)\n",
      "Requirement already satisfied: six>=1.5 in c:\\users\\86199\\anaconda3\\lib\\site-packages (from python-dateutil>=2.1->matplotlib!=3.0.0,>=2.0.0->scikit-image==0.16.2) (1.15.0)\n",
      "Note: you may need to restart the kernel to use updated packages.\n"
     ]
    }
   ],
   "source": [
    "pip install --user scikit-image==0.16.2"
   ]
  },
  {
   "cell_type": "code",
   "execution_count": 5,
   "metadata": {},
   "outputs": [
    {
     "ename": "ModuleNotFoundError",
     "evalue": "No module named 'sporeads'",
     "output_type": "error",
     "traceback": [
      "\u001b[1;31m---------------------------------------------------------------------------\u001b[0m",
      "\u001b[1;31mModuleNotFoundError\u001b[0m                       Traceback (most recent call last)",
      "\u001b[1;32m<ipython-input-5-9f264cf1d681>\u001b[0m in \u001b[0;36m<module>\u001b[1;34m\u001b[0m\n\u001b[0;32m      3\u001b[0m \u001b[1;32mfrom\u001b[0m \u001b[0mspotipy\u001b[0m\u001b[1;33m.\u001b[0m\u001b[0moauth2\u001b[0m \u001b[1;32mimport\u001b[0m \u001b[0mSpotifyClientCredentials\u001b[0m\u001b[1;33m\u001b[0m\u001b[1;33m\u001b[0m\u001b[0m\n\u001b[0;32m      4\u001b[0m \u001b[1;33m\u001b[0m\u001b[0m\n\u001b[1;32m----> 5\u001b[1;33m \u001b[1;32mfrom\u001b[0m \u001b[0msporeads\u001b[0m \u001b[1;32mimport\u001b[0m \u001b[0msporeads\u001b[0m\u001b[1;33m\u001b[0m\u001b[1;33m\u001b[0m\u001b[0m\n\u001b[0m\u001b[0;32m      6\u001b[0m \u001b[0ma\u001b[0m \u001b[1;33m=\u001b[0m \u001b[0msporeads\u001b[0m\u001b[1;33m(\u001b[0m\u001b[1;33m)\u001b[0m\u001b[1;33m\u001b[0m\u001b[1;33m\u001b[0m\u001b[0m\n\u001b[0;32m      7\u001b[0m \u001b[0ma\u001b[0m\u001b[1;33m.\u001b[0m\u001b[0mgetreads\u001b[0m\u001b[1;33m(\u001b[0m\u001b[1;34m\"Katy Perry\"\u001b[0m\u001b[1;33m)\u001b[0m\u001b[1;33m\u001b[0m\u001b[1;33m\u001b[0m\u001b[0m\n",
      "\u001b[1;31mModuleNotFoundError\u001b[0m: No module named 'sporeads'"
     ]
    }
   ],
   "source": [
    "import urllib3\n",
    "import spotipy\n",
    "from spotipy.oauth2 import SpotifyClientCredentials\n",
    "\n",
    "from sporeads import sporeads\n",
    "a = sporeads()\n",
    "a.getreads(\"Katy Perry\")\n",
    "a.showreads()\n"
   ]
  },
  {
   "cell_type": "code",
   "execution_count": 6,
   "metadata": {},
   "outputs": [],
   "source": [
    "import tkinter as tk  \n",
    "spo = tk.Tk()\n",
    "spo.title('spo')\n",
    "spo.geometry('500x300') \n",
    "l = tk.Label(spo, text='你好！this is Tkinter', bg='green', font=('Arial', 12), width=30, height=2)\n",
    "l.pack()\n",
    "spo.mainloop()"
   ]
  },
  {
   "cell_type": "code",
   "execution_count": 16,
   "metadata": {},
   "outputs": [],
   "source": [
    "#!/usr/bin/env python\n",
    "# -*- coding: utf-8 -*-\n",
    "# author:洪卫\n",
    " \n",
    "import tkinter as tk  # 使用Tkinter前需要先导入\n",
    " \n",
    "# 第1步，实例化object，建立窗口window\n",
    "window = tk.Tk()\n",
    " \n",
    "# 第2步，给窗口的可视化起名字\n",
    "window.title('My Window')\n",
    " \n",
    "# 第3步，设定窗口的大小(长 * 宽)\n",
    "window.geometry('1000x600')  # 这里的乘是小x\n",
    " \n",
    "# 第4步，在图形界面上创建 500 * 200 大小的画布并放置各种元素\n",
    "canvas = tk.Canvas(window, height=500, width=500)\n",
    "# 说明图片位置，并导入图片到画布上\n",
    "image_file = tk.PhotoImage(file='katy.png')  # 图片位置（相对路径，与.py文件同一文件夹下，也可以用绝对路径，需要给定图片具体绝对路径）\n",
    "image = canvas.create_image(250, 0, anchor='n',image=image_file)        # 图片锚定点（n图片顶端的中间点位置）放在画布（250,0）坐标处\n",
    "\n",
    "canvas.pack()\n",
    " \n",
    "\n",
    " \n",
    "# 第7步，主窗口循环显示\n",
    "window.mainloop()"
   ]
  },
  {
   "cell_type": "code",
   "execution_count": 17,
   "metadata": {},
   "outputs": [],
   "source": [
    "#!/usr/bin/env python\n",
    "# -*- coding: utf-8 -*-\n",
    "# author:洪卫\n",
    " \n",
    "import tkinter as tk  # 使用Tkinter前需要先导入\n",
    " \n",
    "# 第1步，实例化object，建立窗口window\n",
    "window = tk.Tk()\n",
    " \n",
    "# 第2步，给窗口的可视化起名字\n",
    "window.title('My Window')\n",
    " \n",
    "# 第3步，设定窗口的大小(长 * 宽)\n",
    "window.geometry('500x300')  # 这里的乘是小x\n",
    " \n",
    "# 第4步，在图形界面上设定标签\n",
    "var = tk.StringVar()    # 将label标签的内容设置为字符类型，用var来接收hit_me函数的传出内容用以显示在标签上\n",
    "l = tk.Label(window, textvariable=var, bg='green', fg='white', font=('Arial', 12), width=30, height=2)\n",
    "# 说明： bg为背景，fg为字体颜色，font为字体，width为长，height为高，这里的长和高是字符的长和高，比如height=2,就是标签有2个字符这么高\n",
    "l.pack()\n",
    " \n",
    "# 定义一个函数功能（内容自己自由编写），供点击Button按键时调用，调用命令参数command=函数名\n",
    "on_hit = False\n",
    "def hit_me():\n",
    "    global on_hit\n",
    "    if on_hit == False:\n",
    "        on_hit = True\n",
    "        var.set('you hit me')\n",
    "    else:\n",
    "        on_hit = False\n",
    "        var.set('')\n",
    " \n",
    "# 第5步，在窗口界面设置放置Button按键\n",
    "b = tk.Button(window, text='hit me', font=('Arial', 12), width=10, height=1, command=hit_me)\n",
    "b.pack()\n",
    " \n",
    "# 第6步，主窗口循环显示\n",
    "window.mainloop()"
   ]
  },
  {
   "cell_type": "code",
   "execution_count": 56,
   "metadata": {},
   "outputs": [
    {
     "name": "stdout",
     "output_type": "stream",
     "text": [
      "作品：《bitch》\n"
     ]
    }
   ],
   "source": [
    "import tkinter as tk\n",
    "master = tk.Tk()\n",
    "master.geometry('500x300')\n",
    "tk.Label(master, text=\"ARTIST：\").grid(row=0)\n",
    "\n",
    "e1 = tk.Entry(master)\n",
    "\n",
    "e1.grid(row=0, column=1, padx=10, pady=5)\n",
    "\n",
    "def show():\n",
    "    print(\"作品：《%s》\" % e1.get())\n",
    "   \n",
    "    e1.delete(0, \"end\")\n",
    "    \n",
    " \n",
    "tk.Button(master, text=\"GET ARTISTS' TOP HITS !\", width=30, command=show).grid(row=3, column=0, sticky=\"w\", padx=10, pady=5)\n",
    "\n",
    " \n",
    "master.mainloop()\n"
   ]
  },
  {
   "cell_type": "code",
   "execution_count": 55,
   "metadata": {},
   "outputs": [
    {
     "ename": "NameError",
     "evalue": "name 'spotipy' is not defined",
     "output_type": "error",
     "traceback": [
      "\u001b[1;31m---------------------------------------------------------------------------\u001b[0m",
      "\u001b[1;31mNameError\u001b[0m                                 Traceback (most recent call last)",
      "\u001b[1;32m<ipython-input-55-2559ed1dc357>\u001b[0m in \u001b[0;36m<module>\u001b[1;34m\u001b[0m\n\u001b[0;32m      4\u001b[0m \u001b[1;33m\u001b[0m\u001b[0m\n\u001b[0;32m      5\u001b[0m \u001b[0mreads\u001b[0m \u001b[1;33m=\u001b[0m \u001b[0msporeads\u001b[0m\u001b[1;33m(\u001b[0m\u001b[1;33m)\u001b[0m\u001b[1;33m\u001b[0m\u001b[1;33m\u001b[0m\u001b[0m\n\u001b[1;32m----> 6\u001b[1;33m \u001b[0mreads\u001b[0m\u001b[1;33m.\u001b[0m\u001b[0mgetreads\u001b[0m\u001b[1;33m(\u001b[0m\u001b[1;34m\"Katy Perry\"\u001b[0m\u001b[1;33m)\u001b[0m\u001b[1;33m\u001b[0m\u001b[1;33m\u001b[0m\u001b[0m\n\u001b[0m\u001b[0;32m      7\u001b[0m \u001b[0mreads\u001b[0m\u001b[1;33m.\u001b[0m\u001b[0mshowreads\u001b[0m\u001b[1;33m(\u001b[0m\u001b[1;33m)\u001b[0m\u001b[1;33m\u001b[0m\u001b[1;33m\u001b[0m\u001b[0m\n",
      "\u001b[1;32m~\\Desktop\\gitupload\\spo.py\u001b[0m in \u001b[0;36mgetreads\u001b[1;34m(self, artist)\u001b[0m\n",
      "\u001b[1;31mNameError\u001b[0m: name 'spotipy' is not defined"
     ]
    }
   ],
   "source": [
    "import spotipy\n",
    "import ipynb_importer\n",
    "from spo import sporeads\n",
    "\n",
    "reads = sporeads()\n",
    "reads.getreads(\"Katy Perry\")\n",
    "reads.showreads()"
   ]
  },
  {
   "cell_type": "code",
   "execution_count": null,
   "metadata": {},
   "outputs": [],
   "source": []
  }
 ],
 "metadata": {
  "kernelspec": {
   "display_name": "Python 3",
   "language": "python",
   "name": "python3"
  },
  "language_info": {
   "codemirror_mode": {
    "name": "ipython",
    "version": 3
   },
   "file_extension": ".py",
   "mimetype": "text/x-python",
   "name": "python",
   "nbconvert_exporter": "python",
   "pygments_lexer": "ipython3",
   "version": "3.8.3"
  }
 },
 "nbformat": 4,
 "nbformat_minor": 4
}
